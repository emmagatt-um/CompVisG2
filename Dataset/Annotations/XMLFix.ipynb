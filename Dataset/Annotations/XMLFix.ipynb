{
 "cells": [
  {
   "cell_type": "code",
   "execution_count": 51,
   "id": "5633fc12-5c68-4c8d-b382-2c6883f1d663",
   "metadata": {},
   "outputs": [
    {
     "name": "stdout",
     "output_type": "stream",
     "text": [
      "..\\Dataset\\1\\Pizza\\010KDSPG3ZMB.jpg\n",
      "Done!\n"
     ]
    }
   ],
   "source": [
    "import xml.etree.ElementTree as ET\n",
    "from os import listdir\n",
    "from os.path import isfile, join\n",
    "import os\n",
    "\n",
    "\n",
    "for f in listdir(\"C:/Users/emcys/Documents/CompVisGroup/Dataset/Annotations\"):\n",
    "    mytree = ET.parse(\"C:/Users/emcys/Documents/CompVisGroup/Dataset/Annotations/\" + f)\n",
    "    myroot = mytree.getroot()\n",
    "    fileName = f.split(\".\")\n",
    "\n",
    "    if(os.path.exists('C:/Users/emcys/CompVis2/' + f)):\n",
    "        os.remove('C:/Users/emcys/CompVis2/' + f)\n",
    "        \n",
    "    for path in myroot.iter('path'):\n",
    "        originalPath = path.text\n",
    "        pathSplit = originalPath.split(\"\\\\\")\n",
    "\n",
    "        newPath = \"..\"\n",
    "        for x in pathSplit[7:]:\n",
    "            newPath += \"\\\\\" + x\n",
    "        path.text = str(newPath)\n",
    "        mytree.write(f)\n",
    "\n",
    "    break\n",
    "\n",
    "print('Done!')"
   ]
  },
  {
   "cell_type": "code",
   "execution_count": null,
   "id": "db3e9b74-67ee-407e-80cb-249ac55d1e4d",
   "metadata": {},
   "outputs": [],
   "source": []
  }
 ],
 "metadata": {
  "kernelspec": {
   "display_name": "Python 3 (ipykernel)",
   "language": "python",
   "name": "python3"
  },
  "language_info": {
   "codemirror_mode": {
    "name": "ipython",
    "version": 3
   },
   "file_extension": ".py",
   "mimetype": "text/x-python",
   "name": "python",
   "nbconvert_exporter": "python",
   "pygments_lexer": "ipython3",
   "version": "3.9.18"
  }
 },
 "nbformat": 4,
 "nbformat_minor": 5
}
